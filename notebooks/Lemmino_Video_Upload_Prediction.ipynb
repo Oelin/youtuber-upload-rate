{
 "cells": [
  {
   "cell_type": "code",
   "execution_count": 1,
   "metadata": {
    "id": "pB-yX79Ff6Ej"
   },
   "outputs": [],
   "source": [
    "import seaborn as sns\n",
    "import numpy as np\n",
    "import pandas as pd"
   ]
  },
  {
   "cell_type": "code",
   "execution_count": 2,
   "metadata": {
    "id": "-IqS2rSmf4MR"
   },
   "outputs": [],
   "source": [
    "# Time in days between consecutive uploads...\n",
    "\n",
    "data = [152, 50, 221, 13, 143, 123, 125, 60, 76, 83, 35, 36, 99, 97, 98, 63, 42, 34, 24, 7, 77, 58, 31, 23, 44, 65, 36, 9, 26, 28, 24, 42, 20, 33, 30, 26, 23, 28, 27, 21, 25, 9, 11, 5, 18, 20, 23, 17, 15, 17, 16, 14, 4, 12, 13, 13, 14, 8, 11, 10, 30, 23, 5, 16, 6, 20]"
   ]
  },
  {
   "cell_type": "code",
   "execution_count": 3,
   "metadata": {
    "id": "WpqqlCClhwRI"
   },
   "outputs": [],
   "source": [
    "df = pd.DataFrame(data = { 'y': reversed(data), 'x': range(len(data)) })"
   ]
  },
  {
   "cell_type": "code",
   "execution_count": 4,
   "metadata": {
    "colab": {
     "base_uri": "https://localhost:8080/",
     "height": 383
    },
    "id": "FeUNLLyKf9MP",
    "outputId": "cbe1ab31-ad62-46a4-e96f-31065060d4e9"
   },
   "outputs": [
    {
     "data": {
      "text/plain": [
       "<seaborn.axisgrid.FacetGrid at 0x7f42e53c58b0>"
      ]
     },
     "execution_count": 4,
     "metadata": {},
     "output_type": "execute_result"
    },
    {
     "data": {
      "image/png": "[encoded data removed]",
      "text/plain": [
       "<Figure size 500x500 with 1 Axes>"
      ]
     },
     "metadata": {},
     "output_type": "display_data"
    }
   ],
   "source": [
    "sns.set(rc={'figure.figsize': (11.7,8.27)})\n",
    "sns.lmplot(x='x', y='y', order=2, ci=None, data=df)"
   ]
  },
  {
   "cell_type": "markdown",
   "metadata": {
    "id": "Md_CiCapn-J_"
   },
   "source": [
    "We see that there's a general upwards trend of the *range* (i.e. more recent videos may be uploaded significantly further apart in time compared to older videos). The data are not i.i.d which means a simple linear regression is unlikely to generalize well. The diagram shows a polynomial regression of order two which shows some promise. However, the large variance is problematic. As the upper range increases, we see the variance also increases (there are also still videos uploaded close together)."
   ]
  },
  {
   "cell_type": "markdown",
   "metadata": {
    "id": "u27nAizmn-Sn"
   },
   "source": [
    "We now investigate the correlation between video length and upload time."
   ]
  },
  {
   "cell_type": "code",
   "execution_count": 5,
   "metadata": {
    "cellView": "form",
    "id": "CZl0xOFWf_8E"
   },
   "outputs": [],
   "source": [
    "#@markdown\n",
    "video_lengths = [\n",
    "    \"34:11\",\n",
    "    \"02:34\",\n",
    "    \"1:09:09\",\n",
    "    \"10:37\",\n",
    "    \"26:19\",\n",
    "    \"27:45\",\n",
    "    \"29:27\",\n",
    "    \"27:53\",\n",
    "    \"02:18\",\n",
    "    \"18:52\",\n",
    "    \"07:12\",\n",
    "    \"24:54\",\n",
    "    \"09:08\",\n",
    "    \"17:29\",\n",
    "    \"19:16\",\n",
    "    \"17:54\",\n",
    "    \"19:12\",\n",
    "    \"15:58\",\n",
    "    \"18:31\",\n",
    "    \"02:58\",\n",
    "    \"30:44\",\n",
    "    \"15:19\",\n",
    "    \"23:54\",\n",
    "    \"17:33\",\n",
    "    \"15:24\",\n",
    "    \"15:20\",\n",
    "    \"14:52\",\n",
    "    \"14:55\",\n",
    "    \"11:47\",\n",
    "    \"16:32\",\n",
    "    \"10:25\",\n",
    "    \"16:22\",\n",
    "    \"17:20\",\n",
    "    \"17:18\",\n",
    "    \"13:36\",\n",
    "    \"16:04\",\n",
    "    \"14:25\",\n",
    "    \"15:07\",\n",
    "    \"16:05\",\n",
    "    \"23:16\",\n",
    "    \"20:33\",\n",
    "    \"14:31\",\n",
    "    \"11:37\",\n",
    "    \"10:53\",\n",
    "    \"16:54\",\n",
    "    \"17:06\",\n",
    "    \"11:35\",\n",
    "    \"10:37\",\n",
    "    \"17:10\",\n",
    "    \"10:20\",\n",
    "    \"09:25\",\n",
    "    \"08:34\",\n",
    "    \"09:52\",\n",
    "    \"12:42\",\n",
    "    \"09:58\",\n",
    "    \"09:42\",\n",
    "    \"12:14\",\n",
    "    \"09:18\",\n",
    "    \"08:57\",\n",
    "    \"09:41\",\n",
    "    \"07:28\",\n",
    "    \"11:15\",\n",
    "    \"07:44\",\n",
    "    \"10:24\",\n",
    "    \"05:00\",\n",
    "    \"09:35\",\n",
    "    \"09:16\",\n",
    "    \"06:50\",\n",
    "    \"13:19\",\n",
    "    \"07:39\",\n",
    "    \"08:20\",\n",
    "    \"07:53\",\n",
    "    \"07:19\",\n",
    "    \"08:29\",\n",
    "    \"10:26\",\n",
    "    \"12:31\",\n",
    "    \"05:14\",\n",
    "    \"10:07\",\n",
    "    \"09:24\",\n",
    "    \"08:23\",\n",
    "    \"06:51\",\n",
    "    \"07:22\",\n",
    "    \"09:13\",\n",
    "    \"08:52\",\n",
    "    \"12:09\",\n",
    "    \"06:04\",\n",
    "    \"06:57\",\n",
    "    \"09:22\",\n",
    "    \"07:16\",\n",
    "    \"05:33\",\n",
    "    \"04:24\",\n",
    "    \"07:18\",\n",
    "    \"06:47\",\n",
    "    \"10:01\",\n",
    "    \"07:49\",\n",
    "    \"11:28\",\n",
    "    \"04:23\",\n",
    "    \"09:02\",\n",
    "    \"07:37\",\n",
    "    \"06:39\",\n",
    "    \"06:30\",\n",
    "    \"04:29\",\n",
    "    \"09:45\",\n",
    "    \"05:54\",\n",
    "    \"07:48\",\n",
    "    \"05:03\",\n",
    "    \"11:02\",\n",
    "    \"07:53\",\n",
    "    \"07:54\",\n",
    "    \"05:30\",\n",
    "    \"08:10\",\n",
    "    \"06:58\",\n",
    "    \"10:29\",\n",
    "    \"04:21\",\n",
    "    \"07:43\",\n",
    "    \"06:12\",\n",
    "    \"06:23\",\n",
    "    \"04:22\",\n",
    "    \"05:15\",\n",
    "    \"06:51\",\n",
    "    \"07:15\",\n",
    "    \"04:50\",\n",
    "    \"05:24\",\n",
    "    \"03:39\",\n",
    "    \"05:36\",\n",
    "    \"06:15\",\n",
    "    \"05:10\",\n",
    "    \"11:35\",\n",
    "    \"05:34\",\n",
    "    \"04:00\",\n",
    "    \"08:35\",\n",
    "    \"07:08\",\n",
    "    \"15:08\",\n",
    "    \"07:50\",\n",
    "    \"04:53\",\n",
    "    \"06:11\",\n",
    "    \"08:35\",\n",
    "    \"17:01\",\n",
    "    \"06:01\",\n",
    "    \"04:52\",\n",
    "    \"12:05\",\n",
    "    \"08:18\",\n",
    "    \"05:41\",\n",
    "    \"16:49\",\n",
    "    \"06:26\",\n",
    "    \"05:25\",\n",
    "    \"15:35\",\n",
    "    \"05:43\",\n",
    "    \"06:13\",\n",
    "    \"06:55\",\n",
    "    \"06:36\",\n",
    "    \"06:12\",\n",
    "    \"06:42\",\n",
    "    \"04:49\",\n",
    "    \"04:10\",\n",
    "    \"05:29\",\n",
    "    \"08:17\",\n",
    "    \"05:15\",\n",
    "    \"05:19\",\n",
    "    \"04:58\",\n",
    "    \"07:58\",\n",
    "    \"07:15\",\n",
    "    \"06:09\",\n",
    "    \"05:00\",\n",
    "    \"06:48\",\n",
    "    \"04:55\",\n",
    "    \"09:40\"\n",
    "]"
   ]
  },
  {
   "cell_type": "code",
   "execution_count": 6,
   "metadata": {
    "id": "B7SL_eSzsDcC"
   },
   "outputs": [],
   "source": [
    "def convert_video_length_to_minutes(length):\n",
    "\n",
    "    parts = length.split(':')\n",
    "    seconds = int(parts[-1])\n",
    "    minutes = int(parts[-2])\n",
    "    hours = int(parts[0]) if len(parts) == 3 else 0\n",
    "\n",
    "    hours = int(hours)\n",
    "    minutes = int(minutes)\n",
    "\n",
    "    return hours*60 + minutes\n",
    "\n",
    "video_lengths = [convert_video_length_to_minutes(x) for x in video_lengths]"
   ]
  },
  {
   "cell_type": "code",
   "execution_count": 10,
   "metadata": {},
   "outputs": [
    {
     "data": {
      "text/plain": [
       "[34,\n",
       " 2,\n",
       " 69,\n",
       " 10,\n",
       " 26,\n",
       " 27,\n",
       " 29,\n",
       " 27,\n",
       " 2,\n",
       " 18,\n",
       " 7,\n",
       " 24,\n",
       " 9,\n",
       " 17,\n",
       " 19,\n",
       " 17,\n",
       " 19,\n",
       " 15,\n",
       " 18,\n",
       " 2,\n",
       " 30,\n",
       " 15,\n",
       " 23,\n",
       " 17,\n",
       " 15,\n",
       " 15,\n",
       " 14,\n",
       " 14,\n",
       " 11,\n",
       " 16,\n",
       " 10,\n",
       " 16,\n",
       " 17,\n",
       " 17,\n",
       " 13,\n",
       " 16,\n",
       " 14,\n",
       " 15,\n",
       " 16,\n",
       " 23,\n",
       " 20,\n",
       " 14,\n",
       " 11,\n",
       " 10,\n",
       " 16,\n",
       " 17,\n",
       " 11,\n",
       " 10,\n",
       " 17,\n",
       " 10,\n",
       " 9,\n",
       " 8,\n",
       " 9,\n",
       " 12,\n",
       " 9,\n",
       " 9,\n",
       " 12,\n",
       " 9,\n",
       " 8,\n",
       " 9,\n",
       " 7,\n",
       " 11,\n",
       " 7,\n",
       " 10,\n",
       " 5,\n",
       " 9,\n",
       " 9,\n",
       " 6,\n",
       " 13,\n",
       " 7,\n",
       " 8,\n",
       " 7,\n",
       " 7,\n",
       " 8,\n",
       " 10,\n",
       " 12,\n",
       " 5,\n",
       " 10,\n",
       " 9,\n",
       " 8,\n",
       " 6,\n",
       " 7,\n",
       " 9,\n",
       " 8,\n",
       " 12,\n",
       " 6,\n",
       " 6,\n",
       " 9,\n",
       " 7,\n",
       " 5,\n",
       " 4,\n",
       " 7,\n",
       " 6,\n",
       " 10,\n",
       " 7,\n",
       " 11,\n",
       " 4,\n",
       " 9,\n",
       " 7,\n",
       " 6,\n",
       " 6,\n",
       " 4,\n",
       " 9,\n",
       " 5,\n",
       " 7,\n",
       " 5,\n",
       " 11,\n",
       " 7,\n",
       " 7,\n",
       " 5,\n",
       " 8,\n",
       " 6,\n",
       " 10,\n",
       " 4,\n",
       " 7,\n",
       " 6,\n",
       " 6,\n",
       " 4,\n",
       " 5,\n",
       " 6,\n",
       " 7,\n",
       " 4,\n",
       " 5,\n",
       " 3,\n",
       " 5,\n",
       " 6,\n",
       " 5,\n",
       " 11,\n",
       " 5,\n",
       " 4,\n",
       " 8,\n",
       " 7,\n",
       " 15,\n",
       " 7,\n",
       " 4,\n",
       " 6,\n",
       " 8,\n",
       " 17,\n",
       " 6,\n",
       " 4,\n",
       " 12,\n",
       " 8,\n",
       " 5,\n",
       " 16,\n",
       " 6,\n",
       " 5,\n",
       " 15,\n",
       " 5,\n",
       " 6,\n",
       " 6,\n",
       " 6,\n",
       " 6,\n",
       " 6,\n",
       " 4,\n",
       " 4,\n",
       " 5,\n",
       " 8,\n",
       " 5,\n",
       " 5,\n",
       " 4,\n",
       " 7,\n",
       " 7,\n",
       " 6,\n",
       " 5,\n",
       " 6,\n",
       " 4,\n",
       " 9]"
      ]
     },
     "execution_count": 10,
     "metadata": {},
     "output_type": "execute_result"
    }
   ],
   "source": [
    "video_lengths"
   ]
  },
  {
   "cell_type": "code",
   "execution_count": 7,
   "metadata": {
    "id": "waeluuTrsY6Z"
   },
   "outputs": [],
   "source": [
    "df2 = pd.DataFrame(data = { 'y': data, 'x': video_lengths[: len(data)] })"
   ]
  },
  {
   "cell_type": "code",
   "execution_count": 8,
   "metadata": {
    "colab": {
     "base_uri": "https://localhost:8080/",
     "height": 383
    },
    "id": "iTF7gqHHs0kz",
    "outputId": "1e37dc12-58be-4baf-de9a-0776edfd6a9e"
   },
   "outputs": [
    {
     "data": {
      "text/plain": [
       "<seaborn.axisgrid.FacetGrid at 0x7f42e318d970>"
      ]
     },
     "execution_count": 8,
     "metadata": {},
     "output_type": "execute_result"
    },
    {
     "data": {
      "image/png": "[encoded data removed]",
      "text/plain": [
       "<Figure size 500x500 with 1 Axes>"
      ]
     },
     "metadata": {},
     "output_type": "display_data"
    }
   ],
   "source": [
    "sns.lmplot(x='x', y='y', order=1, ci=None, data=df2)"
   ]
  },
  {
   "cell_type": "markdown",
   "metadata": {
    "id": "wOEy8y_rvoPJ"
   },
   "source": [
    "We fit a linear regression relating video length (x minutes) to time since the last upload (y days)."
   ]
  },
  {
   "cell_type": "code",
   "execution_count": 9,
   "metadata": {
    "id": "s8YELa6Pukmz"
   },
   "outputs": [
    {
     "ename": "ModuleNotFoundError",
     "evalue": "No module named 'sklearn'",
     "output_type": "error",
     "traceback": [
      "\u001b[0;31m---------------------------------------------------------------------------\u001b[0m",
      "\u001b[0;31mModuleNotFoundError\u001b[0m                       Traceback (most recent call last)",
      "Cell \u001b[0;32mIn[9], line 1\u001b[0m\n\u001b[0;32m----> 1\u001b[0m \u001b[38;5;28;01mfrom\u001b[39;00m \u001b[38;5;21;01msklearn\u001b[39;00m\u001b[38;5;21;01m.\u001b[39;00m\u001b[38;5;21;01mlinear_model\u001b[39;00m \u001b[38;5;28;01mimport\u001b[39;00m LinearRegression\n",
      "\u001b[0;31mModuleNotFoundError\u001b[0m: No module named 'sklearn'"
     ]
    }
   ],
   "source": [
    "from sklearn.linear_model import LinearRegression"
   ]
  },
  {
   "cell_type": "code",
   "execution_count": null,
   "metadata": {
    "id": "15UkKw2twIB1"
   },
   "outputs": [],
   "source": [
    "x = np.array(df2.x).reshape(-1, 1)\n",
    "y = np.array(df2.y)\n",
    "reg = LinearRegression().fit(x, y)"
   ]
  },
  {
   "cell_type": "code",
   "execution_count": null,
   "metadata": {
    "colab": {
     "base_uri": "https://localhost:8080/"
    },
    "id": "04DnHObDwLWQ",
    "outputId": "2f9ebdce-915f-4c4c-d6f2-ab235403d10e"
   },
   "outputs": [
    {
     "data": {
      "text/plain": [
       "0.5595312663931913"
      ]
     },
     "execution_count": 287,
     "metadata": {},
     "output_type": "execute_result"
    }
   ],
   "source": [
    "reg.score(x, y)"
   ]
  },
  {
   "cell_type": "markdown",
   "metadata": {
    "id": "fhrprnYBwx2P"
   },
   "source": [
    "We see that 56% of the variance is \"explained\" by this linear relationship. This is therefore quite a useful feature, however is one which isn't known in advance (we don't know the length of a video before it's been uploaded)."
   ]
  },
  {
   "cell_type": "markdown",
   "metadata": {
    "id": "n0bKd4nSynFo"
   },
   "source": [
    "Nonetheless, let's observe how much variance may be explained using a combination of the index and the video length. We use 2nd-order polynomial features."
   ]
  },
  {
   "cell_type": "code",
   "execution_count": null,
   "metadata": {
    "id": "hWJoW2mVwN2f"
   },
   "outputs": [],
   "source": [
    "v_index = np.array(range(len(data)))\n",
    "v_length = x.flatten()\n",
    "x1 = np.array([ v_index, v_length, v_index * v_length, v_index ** 2, v_length ** 2]).T"
   ]
  },
  {
   "cell_type": "code",
   "execution_count": null,
   "metadata": {
    "colab": {
     "base_uri": "https://localhost:8080/"
    },
    "id": "M4FENsrZyN5i",
    "outputId": "736f2ea3-9651-4e3b-e74d-00170992be04"
   },
   "outputs": [
    {
     "data": {
      "text/plain": [
       "0.8080380545003637"
      ]
     },
     "execution_count": 289,
     "metadata": {},
     "output_type": "execute_result"
    }
   ],
   "source": [
    "reg1 = LinearRegression().fit(x1, y)\n",
    "reg1.score(x1, y)"
   ]
  },
  {
   "cell_type": "markdown",
   "metadata": {
    "id": "ELtYYrlZy2Wu"
   },
   "source": [
    "Significantly better. We can explain 80% of the variance using a combination of the video length and video index."
   ]
  },
  {
   "cell_type": "code",
   "execution_count": null,
   "metadata": {
    "colab": {
     "base_uri": "https://localhost:8080/"
    },
    "id": "dCQnEnGH1M2A",
    "outputId": "17e34267-07aa-48fc-8661-4c093961f161"
   },
   "outputs": [
    {
     "data": {
      "text/plain": [
       "12.165859076034529"
      ]
     },
     "execution_count": 290,
     "metadata": {},
     "output_type": "execute_result"
    }
   ],
   "source": [
    "np.mean(np.abs(reg1.predict(x1) - y))"
   ]
  },
  {
   "cell_type": "markdown",
   "metadata": {
    "id": "Tho1cU0t15Wt"
   },
   "source": [
    "We see that the mean absolute error is 12.17, meaning on average, the model's predictions are 12 days away from the true upload delta."
   ]
  },
  {
   "cell_type": "code",
   "execution_count": null,
   "metadata": {
    "colab": {
     "base_uri": "https://localhost:8080/",
     "height": 575
    },
    "id": "FYD0FhR-1Slo",
    "outputId": "5fa36590-e2e2-44e2-caae-2b005e5d0b7a"
   },
   "outputs": [
    {
     "name": "stderr",
     "output_type": "stream",
     "text": [
      "/usr/local/lib/python3.8/dist-packages/seaborn/distributions.py:2619: FutureWarning: `distplot` is a deprecated function and will be removed in a future version. Please adapt your code to use either `displot` (a figure-level function with similar flexibility) or `histplot` (an axes-level function for histograms).\n",
      "  warnings.warn(msg, FutureWarning)\n"
     ]
    },
    {
     "data": {
      "text/plain": [
       "<matplotlib.axes._subplots.AxesSubplot at 0x7f11f27d3df0>"
      ]
     },
     "execution_count": 291,
     "metadata": {},
     "output_type": "execute_result"
    },
    {
     "data": {
      "image/png": "[encoded data removed]",
      "text/plain": [
       "<Figure size 842.4x595.44 with 1 Axes>"
      ]
     },
     "metadata": {},
     "output_type": "display_data"
    }
   ],
   "source": [
    "# Distribution of residuals...\n",
    "\n",
    "sns.distplot(reg1.predict(x1) - y)"
   ]
  },
  {
   "cell_type": "code",
   "execution_count": null,
   "metadata": {
    "id": "Wrm1yT0q2iTa"
   },
   "outputs": [],
   "source": [
    "from sklearn.tree import DecisionTreeRegressor"
   ]
  },
  {
   "cell_type": "code",
   "execution_count": null,
   "metadata": {
    "colab": {
     "base_uri": "https://localhost:8080/"
    },
    "id": "aQt98DX03Ih5",
    "outputId": "55c1aceb-0d27-41ff-e6c3-3ecd0adc6125"
   },
   "outputs": [
    {
     "data": {
      "text/plain": [
       "0.9097845343623487"
      ]
     },
     "execution_count": 293,
     "metadata": {},
     "output_type": "execute_result"
    }
   ],
   "source": [
    "reg2 = DecisionTreeRegressor(max_depth=3).fit(x1, y)\n",
    "reg2.score(x1, y)"
   ]
  },
  {
   "cell_type": "code",
   "execution_count": null,
   "metadata": {
    "colab": {
     "base_uri": "https://localhost:8080/"
    },
    "id": "Oow5J1it4MjD",
    "outputId": "852e257c-ca29-4f6f-8a8b-5bd4cc03b0b9"
   },
   "outputs": [
    {
     "data": {
      "text/plain": [
       "8.666666666666666"
      ]
     },
     "execution_count": 294,
     "metadata": {},
     "output_type": "execute_result"
    }
   ],
   "source": [
    "np.mean(np.abs(reg2.predict(x1) - y))"
   ]
  },
  {
   "cell_type": "code",
   "execution_count": null,
   "metadata": {
    "colab": {
     "base_uri": "https://localhost:8080/",
     "height": 575
    },
    "id": "u8DVeyrX4O_F",
    "outputId": "e61c88e7-8dac-4854-c9d9-3cda357c37ef"
   },
   "outputs": [
    {
     "name": "stderr",
     "output_type": "stream",
     "text": [
      "/usr/local/lib/python3.8/dist-packages/seaborn/distributions.py:2619: FutureWarning: `distplot` is a deprecated function and will be removed in a future version. Please adapt your code to use either `displot` (a figure-level function with similar flexibility) or `histplot` (an axes-level function for histograms).\n",
      "  warnings.warn(msg, FutureWarning)\n"
     ]
    },
    {
     "data": {
      "text/plain": [
       "<matplotlib.axes._subplots.AxesSubplot at 0x7f11f2868190>"
      ]
     },
     "execution_count": 295,
     "metadata": {},
     "output_type": "execute_result"
    },
    {
     "data": {
      "image/png": "[encoded data removed]",
      "text/plain": [
       "<Figure size 842.4x595.44 with 1 Axes>"
      ]
     },
     "metadata": {},
     "output_type": "display_data"
    }
   ],
   "source": [
    "\n",
    "sns.distplot(reg2.predict(x1) - y)"
   ]
  },
  {
   "cell_type": "markdown",
   "metadata": {
    "id": "jQhKxS4u5xzG"
   },
   "source": [
    "Now we experiment with an autoregressive model that predicts the delta given previous deltas."
   ]
  },
  {
   "cell_type": "code",
   "execution_count": null,
   "metadata": {
    "id": "_jmMbJqh511J"
   },
   "outputs": [],
   "source": [
    "order = 4\n",
    "x_ar = [data[i - order : i] for i in range(order, len(data) - order)]\n",
    "y_ar = [data[i] for i in range(order, len(data) - order)]\n",
    "\n",
    "x_ar = np.array(x_ar).astype(float)\n",
    "y_ar = np.array(y_ar).astype(float)"
   ]
  },
  {
   "cell_type": "code",
   "execution_count": null,
   "metadata": {
    "colab": {
     "base_uri": "https://localhost:8080/"
    },
    "id": "nDYx90JR6xA6",
    "outputId": "15c8592a-cdc1-4c83-dfd5-9261b13be19f"
   },
   "outputs": [
    {
     "data": {
      "text/plain": [
       "0.6313967533306553"
      ]
     },
     "execution_count": 244,
     "metadata": {},
     "output_type": "execute_result"
    }
   ],
   "source": [
    "ar_reg = LinearRegression().fit(x_ar, y_ar)\n",
    "ar_reg.score(x_ar, y_ar)"
   ]
  },
  {
   "cell_type": "code",
   "execution_count": null,
   "metadata": {
    "colab": {
     "base_uri": "https://localhost:8080/"
    },
    "id": "XfTNLvoX69Rh",
    "outputId": "1f3ebb92-ac02-4c12-a479-6530581fd34e"
   },
   "outputs": [
    {
     "data": {
      "text/plain": [
       "0.7782482010086091"
      ]
     },
     "execution_count": 253,
     "metadata": {},
     "output_type": "execute_result"
    }
   ],
   "source": [
    "ar_reg1 = DecisionTreeRegressor(max_depth=3).fit(x_ar, y_ar)\n",
    "ar_reg1.score(x_ar, y_ar)"
   ]
  },
  {
   "cell_type": "code",
   "execution_count": null,
   "metadata": {
    "colab": {
     "base_uri": "https://localhost:8080/",
     "height": 383
    },
    "id": "3gTeSihH89Tj",
    "outputId": "030d7da1-4c11-4015-fc59-c659bada38c8"
   },
   "outputs": [
    {
     "data": {
      "text/plain": [
       "<seaborn.axisgrid.FacetGrid at 0x7f11f2c28850>"
      ]
     },
     "execution_count": 262,
     "metadata": {},
     "output_type": "execute_result"
    },
    {
     "data": {
      "image/png": "[encoded data removed]",
      "text/plain": [
       "<Figure size 360x360 with 1 Axes>"
      ]
     },
     "metadata": {},
     "output_type": "display_data"
    }
   ],
   "source": [
    "df3 = pd.DataFrame(data = {'y': reversed(video_lengths), 'x': list(range(len(video_lengths))) })\n",
    "\n",
    "sns.lmplot(order=2, x='x', y='y', data = df3)"
   ]
  },
  {
   "cell_type": "code",
   "execution_count": null,
   "metadata": {
    "id": "TrwP-qMS8_xG"
   },
   "outputs": [],
   "source": [
    "video_length_deltas = [(b - a) for a, b in zip(video_lengths[: -1], video_lengths[1 :])]"
   ]
  },
  {
   "cell_type": "code",
   "execution_count": null,
   "metadata": {
    "colab": {
     "base_uri": "https://localhost:8080/",
     "height": 577
    },
    "id": "zyCNSrFV-UT7",
    "outputId": "739a6315-0fe0-44d7-fc65-65a03f9f338f"
   },
   "outputs": [
    {
     "name": "stderr",
     "output_type": "stream",
     "text": [
      "/usr/local/lib/python3.8/dist-packages/seaborn/distributions.py:2619: FutureWarning: `distplot` is a deprecated function and will be removed in a future version. Please adapt your code to use either `displot` (a figure-level function with similar flexibility) or `histplot` (an axes-level function for histograms).\n",
      "  warnings.warn(msg, FutureWarning)\n"
     ]
    },
    {
     "data": {
      "text/plain": [
       "<matplotlib.axes._subplots.AxesSubplot at 0x7f11f2a63d90>"
      ]
     },
     "execution_count": 264,
     "metadata": {},
     "output_type": "execute_result"
    },
    {
     "data": {
      "image/png": "[encoded data removed]",
      "text/plain": [
       "<Figure size 842.4x595.44 with 1 Axes>"
      ]
     },
     "metadata": {},
     "output_type": "display_data"
    }
   ],
   "source": [
    "sns.distplot(video_length_deltas)"
   ]
  },
  {
   "cell_type": "code",
   "execution_count": null,
   "metadata": {
    "id": "Q11C96iD-XCO"
   },
   "outputs": [],
   "source": [
    "order1 = 1\n",
    "vl = list(reversed(video_lengths))\n",
    "video_lengths_x_ar = np.array([vl[i - order1 : i] for i in range(order1, len(vl) - order1)]).astype(float)\n",
    "video_lengths_y_ar = np.array([vl[i] for i in range(order1, len(vl) - order1)]).astype(float)"
   ]
  },
  {
   "cell_type": "code",
   "execution_count": null,
   "metadata": {
    "colab": {
     "base_uri": "https://localhost:8080/"
    },
    "id": "tT9te7uVAoWX",
    "outputId": "506c2dc0-57a1-4028-ef46-35b41e5981cd"
   },
   "outputs": [
    {
     "data": {
      "text/plain": [
       "0.049551640893016224"
      ]
     },
     "execution_count": 318,
     "metadata": {},
     "output_type": "execute_result"
    }
   ],
   "source": [
    "ar_reg2 = LinearRegression().fit(video_lengths_x_ar, video_lengths_y_ar)\n",
    "ar_reg2.score(video_lengths_x_ar, video_lengths_y_ar)"
   ]
  },
  {
   "cell_type": "markdown",
   "metadata": {
    "id": "vMrKr8wCELTn"
   },
   "source": [
    "Next video prediction..."
   ]
  },
  {
   "cell_type": "code",
   "execution_count": null,
   "metadata": {
    "colab": {
     "base_uri": "https://localhost:8080/"
    },
    "id": "xBbI2OoSEPwr",
    "outputId": "70ec48ec-62f5-468a-8269-ca83a7f11c5a"
   },
   "outputs": [
    {
     "data": {
      "text/plain": [
       "array([[   0,   34,    0,    0, 1156],\n",
       "       [   1,    2,    2,    1,    4],\n",
       "       [   2,   69,  138,    4, 4761],\n",
       "       [   3,   10,   30,    9,  100],\n",
       "       [   4,   26,  104,   16,  676],\n",
       "       [   5,   27,  135,   25,  729],\n",
       "       [   6,   29,  174,   36,  841],\n",
       "       [   7,   27,  189,   49,  729],\n",
       "       [   8,    2,   16,   64,    4],\n",
       "       [   9,   18,  162,   81,  324],\n",
       "       [  10,    7,   70,  100,   49],\n",
       "       [  11,   24,  264,  121,  576],\n",
       "       [  12,    9,  108,  144,   81],\n",
       "       [  13,   17,  221,  169,  289],\n",
       "       [  14,   19,  266,  196,  361],\n",
       "       [  15,   17,  255,  225,  289],\n",
       "       [  16,   19,  304,  256,  361],\n",
       "       [  17,   15,  255,  289,  225],\n",
       "       [  18,   18,  324,  324,  324],\n",
       "       [  19,    2,   38,  361,    4],\n",
       "       [  20,   30,  600,  400,  900],\n",
       "       [  21,   15,  315,  441,  225],\n",
       "       [  22,   23,  506,  484,  529],\n",
       "       [  23,   17,  391,  529,  289],\n",
       "       [  24,   15,  360,  576,  225],\n",
       "       [  25,   15,  375,  625,  225],\n",
       "       [  26,   14,  364,  676,  196],\n",
       "       [  27,   14,  378,  729,  196],\n",
       "       [  28,   11,  308,  784,  121],\n",
       "       [  29,   16,  464,  841,  256],\n",
       "       [  30,   10,  300,  900,  100],\n",
       "       [  31,   16,  496,  961,  256],\n",
       "       [  32,   17,  544, 1024,  289],\n",
       "       [  33,   17,  561, 1089,  289],\n",
       "       [  34,   13,  442, 1156,  169],\n",
       "       [  35,   16,  560, 1225,  256],\n",
       "       [  36,   14,  504, 1296,  196],\n",
       "       [  37,   15,  555, 1369,  225],\n",
       "       [  38,   16,  608, 1444,  256],\n",
       "       [  39,   23,  897, 1521,  529],\n",
       "       [  40,   20,  800, 1600,  400],\n",
       "       [  41,   14,  574, 1681,  196],\n",
       "       [  42,   11,  462, 1764,  121],\n",
       "       [  43,   10,  430, 1849,  100],\n",
       "       [  44,   16,  704, 1936,  256],\n",
       "       [  45,   17,  765, 2025,  289],\n",
       "       [  46,   11,  506, 2116,  121],\n",
       "       [  47,   10,  470, 2209,  100],\n",
       "       [  48,   17,  816, 2304,  289],\n",
       "       [  49,   10,  490, 2401,  100],\n",
       "       [  50,    9,  450, 2500,   81],\n",
       "       [  51,    8,  408, 2601,   64],\n",
       "       [  52,    9,  468, 2704,   81],\n",
       "       [  53,   12,  636, 2809,  144],\n",
       "       [  54,    9,  486, 2916,   81],\n",
       "       [  55,    9,  495, 3025,   81],\n",
       "       [  56,   12,  672, 3136,  144],\n",
       "       [  57,    9,  513, 3249,   81],\n",
       "       [  58,    8,  464, 3364,   64],\n",
       "       [  59,    9,  531, 3481,   81],\n",
       "       [  60,    7,  420, 3600,   49],\n",
       "       [  61,   11,  671, 3721,  121],\n",
       "       [  62,    7,  434, 3844,   49],\n",
       "       [  63,   10,  630, 3969,  100],\n",
       "       [  64,    5,  320, 4096,   25],\n",
       "       [  65,    9,  585, 4225,   81]])"
      ]
     },
     "execution_count": 327,
     "metadata": {},
     "output_type": "execute_result"
    }
   ],
   "source": [
    "x1"
   ]
  },
  {
   "cell_type": "code",
   "execution_count": null,
   "metadata": {
    "colab": {
     "base_uri": "https://localhost:8080/"
    },
    "id": "Y4VJmZHsCCt-",
    "outputId": "420547fb-55ed-4fe1-d379-04d679fc8c0c"
   },
   "outputs": [
    {
     "data": {
      "text/plain": [
       "array([-11.75242284])"
      ]
     },
     "execution_count": 360,
     "metadata": {},
     "output_type": "execute_result"
    }
   ],
   "source": [
    "# video length probably around 40 minutes\n",
    "# \n",
    "\n",
    "vi = 67.\n",
    "vl = 40.\n",
    "\n",
    "reg1.predict([ [ vi, vl, vi * vl, vi ** 2, vl ** 2] ])"
   ]
  },
  {
   "cell_type": "code",
   "execution_count": null,
   "metadata": {
    "id": "suCdFsjnGW7Y"
   },
   "outputs": [],
   "source": [
    "x2 = np.array([ v_index, v_length]).T"
   ]
  },
  {
   "cell_type": "code",
   "execution_count": null,
   "metadata": {
    "id": "cHvYi8FeGpsM"
   },
   "outputs": [],
   "source": [
    "reg4 = LinearRegression().fit(x2, y)"
   ]
  },
  {
   "cell_type": "code",
   "execution_count": null,
   "metadata": {
    "colab": {
     "base_uri": "https://localhost:8080/"
    },
    "id": "Xv7jCK7QGqHP",
    "outputId": "f91543ec-67b3-41df-c5cf-4345e5ea98cd"
   },
   "outputs": [
    {
     "data": {
      "text/plain": [
       "0.7034559856918148"
      ]
     },
     "execution_count": 351,
     "metadata": {},
     "output_type": "execute_result"
    }
   ],
   "source": [
    "reg4.score(x2, y)"
   ]
  },
  {
   "cell_type": "code",
   "execution_count": null,
   "metadata": {
    "colab": {
     "base_uri": "https://localhost:8080/"
    },
    "id": "nnepRUmHGvsz",
    "outputId": "81864459-fce3-4a9e-b1bb-c1d2d1f7d248"
   },
   "outputs": [
    {
     "data": {
      "text/plain": [
       "array([66.65895292])"
      ]
     },
     "execution_count": 361,
     "metadata": {},
     "output_type": "execute_result"
    }
   ],
   "source": [
    "reg4.predict([[ vi, vl ]])"
   ]
  },
  {
   "cell_type": "code",
   "execution_count": null,
   "metadata": {
    "id": "l_P8rRWPG1vQ"
   },
   "outputs": [],
   "source": []
  }
 ],
 "metadata": {
  "colab": {
   "provenance": []
  },
  "kernelspec": {
   "display_name": "Python 3 (ipykernel)",
   "language": "python",
   "name": "python3"
  },
  "language_info": {
   "codemirror_mode": {
    "name": "ipython",
    "version": 3
   },
   "file_extension": ".py",
   "mimetype": "text/x-python",
   "name": "python",
   "nbconvert_exporter": "python",
   "pygments_lexer": "ipython3",
   "version": "3.9.2"
  }
 },
 "nbformat": 4,
 "nbformat_minor": 4
}
